{
 "cells": [
  {
   "cell_type": "markdown",
   "metadata": {},
   "source": [
    "# Noise2Void - 2D Example for RGB Data"
   ]
  },
  {
   "cell_type": "code",
   "execution_count": 1,
   "metadata": {},
   "outputs": [
    {
     "name": "stderr",
     "output_type": "stream",
     "text": [
      "Using TensorFlow backend.\n"
     ]
    }
   ],
   "source": [
    "# We import all our dependencies.\n",
    "from n2v.models import N2V\n",
    "import numpy as np\n",
    "from matplotlib import pyplot as plt\n",
    "from matplotlib.image import imread, imsave\n",
    "from csbdeep.io import save_tiff_imagej_compatible"
   ]
  },
  {
   "cell_type": "markdown",
   "metadata": {},
   "source": [
    "## Load the Network"
   ]
  },
  {
   "cell_type": "code",
   "execution_count": null,
   "metadata": {},
   "outputs": [
    {
     "name": "stderr",
     "output_type": "stream",
     "text": [
      "WARNING: Logging before flag parsing goes to stderr.\n",
      "W0829 15:54:21.938601 140381895010112 deprecation_wrapper.py:119] From /home/turek/python/miniconda3/envs/n2v-3.7/lib/python3.7/site-packages/keras/backend/tensorflow_backend.py:541: The name tf.placeholder is deprecated. Please use tf.compat.v1.placeholder instead.\n",
      "\n",
      "W0829 15:54:21.960742 140381895010112 deprecation_wrapper.py:119] From /home/turek/python/miniconda3/envs/n2v-3.7/lib/python3.7/site-packages/keras/backend/tensorflow_backend.py:4432: The name tf.random_uniform is deprecated. Please use tf.random.uniform instead.\n",
      "\n",
      "W0829 15:54:21.971300 140381895010112 deprecation_wrapper.py:119] From /home/turek/python/miniconda3/envs/n2v-3.7/lib/python3.7/site-packages/keras/backend/tensorflow_backend.py:66: The name tf.get_default_graph is deprecated. Please use tf.compat.v1.get_default_graph instead.\n",
      "\n",
      "W0829 15:54:21.980458 140381895010112 deprecation_wrapper.py:119] From /home/turek/python/miniconda3/envs/n2v-3.7/lib/python3.7/site-packages/keras/backend/tensorflow_backend.py:190: The name tf.get_default_session is deprecated. Please use tf.compat.v1.get_default_session instead.\n",
      "\n",
      "W0829 15:54:21.980899 140381895010112 deprecation_wrapper.py:119] From /home/turek/python/miniconda3/envs/n2v-3.7/lib/python3.7/site-packages/keras/backend/tensorflow_backend.py:197: The name tf.ConfigProto is deprecated. Please use tf.compat.v1.ConfigProto instead.\n",
      "\n"
     ]
    }
   ],
   "source": [
    "# A previously trained model is loaded by creating a new N2V-object without providing a 'config'.  \n",
    "model_name = 'n2v_2D'\n",
    "basedir = 'models'\n",
    "model = N2V(config=None, name=model_name, basedir=basedir)"
   ]
  },
  {
   "cell_type": "code",
   "execution_count": null,
   "metadata": {},
   "outputs": [],
   "source": [
    "# In case you do not want to load the weights that lead to lowest validation loss during \n",
    "# training but the latest computed weights, you can execute the following line:\n",
    "\n",
    "# model.load_weights('weights_last.h5')"
   ]
  },
  {
   "cell_type": "markdown",
   "metadata": {},
   "source": [
    "## Prediction\n",
    "Here we will simply use the same image as during training and denoise it using our network."
   ]
  },
  {
   "cell_type": "code",
   "execution_count": null,
   "metadata": {},
   "outputs": [],
   "source": [
    "# We read the image we want to process and get rid of the Alpha channel.\n",
    "img = imread('data/longBeach.png')[...,:3]\n",
    "\n",
    "# Here we process the image.\n",
    "pred = model.predict(img, axes='YXC')"
   ]
  },
  {
   "cell_type": "code",
   "execution_count": null,
   "metadata": {},
   "outputs": [],
   "source": [
    "# Let's look at the results.\n",
    "plt.figure(figsize=(30,30))\n",
    "\n",
    "# We show the noisy input...\n",
    "plt.subplot(1,2,1)\n",
    "plt.imshow( img[:,1000:3000,...] )\n",
    "plt.title('Input');\n",
    "\n",
    "# and the result.\n",
    "plt.subplot(1,2,2)\n",
    "plt.imshow( pred[:,1000:3000,...] )\n",
    "plt.title('Prediction');\n"
   ]
  },
  {
   "cell_type": "markdown",
   "metadata": {},
   "source": [
    "## Save Results"
   ]
  },
  {
   "cell_type": "code",
   "execution_count": null,
   "metadata": {},
   "outputs": [],
   "source": [
    "from matplotlib.image import imsave\n",
    "imsave('pred_longBeach.png', np.clip(pred,0.0,1.0))"
   ]
  }
 ],
 "metadata": {
  "kernelspec": {
   "display_name": "Python 3",
   "language": "python",
   "name": "python3"
  },
  "language_info": {
   "codemirror_mode": {
    "name": "ipython",
    "version": 3
   },
   "file_extension": ".py",
   "mimetype": "text/x-python",
   "name": "python",
   "nbconvert_exporter": "python",
   "pygments_lexer": "ipython3",
   "version": "3.7.4"
  }
 },
 "nbformat": 4,
 "nbformat_minor": 2
}
